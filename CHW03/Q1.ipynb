{
  "cells": [
    {
      "cell_type": "markdown",
      "id": "1b46fe41",
      "metadata": {
        "id": "1b46fe41"
      },
      "source": [
        "<h1 align=\"center\">Introduction to Machine Learning - Course Code: 25737</h1>\n",
        "<h4 align=\"center\">Instructor: Dr. Amiri</h4>\n",
        "<h4 align=\"center\">Sharif University of Technology, Spring 2024</h4>\n",
        "<h4 align=\"center\">Computer Assignment 3</h4>\n",
        "<h4 align=\"center\">\n",
        "\n",
        "Question 1\n",
        "\n",
        "</h4>"
      ]
    },
    {
      "cell_type": "markdown",
      "id": "24a0fc13",
      "metadata": {
        "id": "24a0fc13"
      },
      "source": [
        "# Personal Data"
      ]
    },
    {
      "cell_type": "code",
      "execution_count": 1,
      "id": "44babb65",
      "metadata": {
        "id": "44babb65"
      },
      "outputs": [],
      "source": [
        "# Set your student number\n",
        "student_number = 400100746\n",
        "Name = 'Hossein'\n",
        "Last_Name = 'Anjidani'"
      ]
    },
    {
      "cell_type": "markdown",
      "id": "ca4a337a",
      "metadata": {
        "id": "ca4a337a"
      },
      "source": [
        "# Rules\n",
        "- You are not allowed to add or remove cells. You **must use the provided space to write your code**. If you don't follow this rule, **your Practical Assignment won't be graded**.  \n",
        "\n",
        "- Collaboration and using the internet is allowed, but your code **must be written by yourself**. **Copying code** from each other or from available resources will result in a **zero score for the assignment**.\n",
        "\n",
        "- You are not allowed to use `torch.nn`, `torch.optim` and any activation function and loss function implemented in torch."
      ]
    },
    {
      "cell_type": "code",
      "execution_count": 2,
      "id": "12b76789",
      "metadata": {
        "id": "12b76789"
      },
      "outputs": [],
      "source": [
        "# !pip install numpy\n",
        "# !pip install matplotlib\n",
        "# !pip install torchvision\n",
        "# !pip install torch"
      ]
    },
    {
      "cell_type": "markdown",
      "id": "886188c7",
      "metadata": {
        "id": "886188c7"
      },
      "source": [
        "## Importing Libraries"
      ]
    },
    {
      "cell_type": "code",
      "execution_count": 3,
      "id": "55a0adcc",
      "metadata": {
        "id": "55a0adcc"
      },
      "outputs": [],
      "source": [
        "import torch\n",
        "from torchvision.datasets import FashionMNIST\n",
        "from torchvision import transforms\n",
        "from torch.utils.data import DataLoader\n",
        "\n",
        "import numpy as np\n",
        "from matplotlib import pyplot as plt\n",
        "from typing import Dict"
      ]
    },
    {
      "cell_type": "markdown",
      "id": "18510868",
      "metadata": {
        "id": "18510868"
      },
      "source": [
        "## Datasets and Dataloaders\n",
        "\n",
        "Here, we download and load the train and test `FashionMNIST` dataset with the desired transforms. Then, we define the dataloaders for `train` and `test`."
      ]
    },
    {
      "cell_type": "code",
      "execution_count": 4,
      "id": "dc8759e2",
      "metadata": {
        "id": "dc8759e2"
      },
      "outputs": [],
      "source": [
        "train_set = FashionMNIST(root='.', train=True, download=True, transform=transforms.ToTensor())\n",
        "test_set = FashionMNIST(root='.', train=False, download=True, transform=transforms.ToTensor())"
      ]
    },
    {
      "cell_type": "markdown",
      "id": "5df47fcb",
      "metadata": {
        "id": "5df47fcb"
      },
      "source": [
        "\n",
        "Here you have to calculate the number of classes amd input dimention of the first layer (how many pixels does each image have?)."
      ]
    },
    {
      "cell_type": "code",
      "execution_count": 5,
      "id": "8f6763e6",
      "metadata": {
        "colab": {
          "base_uri": "https://localhost:8080/"
        },
        "id": "8f6763e6",
        "outputId": "9fb746ab-b0ec-48ee-db78-1727eb0de799"
      },
      "outputs": [
        {
          "output_type": "stream",
          "name": "stdout",
          "text": [
            "Input dimension 784\n",
            "['T-shirt/top', 'Trouser', 'Pullover', 'Dress', 'Coat', 'Sandal', 'Shirt', 'Sneaker', 'Bag', 'Ankle boot']\n",
            "class count: 10\n"
          ]
        }
      ],
      "source": [
        "## FILL HERE\n",
        "sample_image, _ = train_set[0]\n",
        "color_channels, height, width = sample_image.shape\n",
        "input_dim = color_channels * height * width\n",
        "print(\"Input dimension\", input_dim)\n",
        "print(train_set.classes)\n",
        "class_count=len(train_set.classes)\n",
        "print(\"class count:\",class_count)"
      ]
    },
    {
      "cell_type": "code",
      "execution_count": 6,
      "id": "c695ff60",
      "metadata": {
        "id": "c695ff60"
      },
      "outputs": [],
      "source": [
        "train_loader = DataLoader(train_set, 64, shuffle=True)\n",
        "test_loader = DataLoader(test_set, 64, shuffle=True)"
      ]
    },
    {
      "cell_type": "markdown",
      "id": "f9dac6c2",
      "metadata": {
        "id": "f9dac6c2"
      },
      "source": [
        "## Visualization\n",
        "\n",
        "Visualize 1 random image from each class by using `plt.subplots`"
      ]
    },
    {
      "cell_type": "code",
      "execution_count": 7,
      "id": "e3d6b0c1",
      "metadata": {
        "colab": {
          "base_uri": "https://localhost:8080/",
          "height": 125
        },
        "id": "e3d6b0c1",
        "outputId": "698b7b54-a3d8-4e32-95ad-06c71a44e2e3"
      },
      "outputs": [
        {
          "output_type": "display_data",
          "data": {
            "text/plain": [
              "<Figure size 1000x200 with 10 Axes>"
            ],
            "image/png": "[encoded data removed]"
          },
          "metadata": {}
        }
      ],
      "source": [
        "import random\n",
        "fig, axs = plt.subplots(1, 10, figsize=(10, 2))\n",
        "\n",
        "for class_idx in range(10):\n",
        "    class_samples = [i for i, (_, label) in enumerate(train_set) if label == class_idx]\n",
        "    random_sample_idx = random.choice(class_samples)\n",
        "    image, _ = train_set[random_sample_idx]\n",
        "    image = image.squeeze().numpy()\n",
        "    axs[class_idx].imshow(image, cmap='gray')\n",
        "    axs[class_idx].set_title(train_set.classes[class_idx])\n",
        "    axs[class_idx].axis('off')\n",
        "\n",
        "plt.show()"
      ]
    },
    {
      "cell_type": "markdown",
      "id": "a94c5aba",
      "metadata": {
        "id": "a94c5aba"
      },
      "source": [
        "## Initializing model's parameters\n",
        "\n",
        "In this part, we create the model and initialize its parameters and store the values of these parameters in the variable `parameters` which is a dictionary including the weigths and biases of each layer."
      ]
    },
    {
      "cell_type": "code",
      "execution_count": 8,
      "id": "e6d40952",
      "metadata": {
        "id": "e6d40952"
      },
      "outputs": [],
      "source": [
        "def add_linear_layer(parameters: dict, shape, device, i=None):\n",
        "    \"\"\"\n",
        "    This function adds parameters of a linear unit of shape `shape` to the `parameters` dictionary.\n",
        "    \"\"\"\n",
        "    n_in, n_out = shape\n",
        "    with torch.no_grad():\n",
        "        w = torch.zeros(*shape, device=device)\n",
        "        # kaiming initialization for ReLU activations:\n",
        "        bound = 1 / np.sqrt(n_in).item()\n",
        "        w.uniform_(-bound, bound)\n",
        "        b = torch.zeros(n_out, device=device)  # no need to (1, n_out). it will broadcast itself.\n",
        "    w.requires_grad = True\n",
        "    b.requires_grad = True\n",
        "    # `i` is used to give numbers to parameter names\n",
        "    parameters.update({f'w{i}': w, f'b{i}': b})"
      ]
    },
    {
      "cell_type": "markdown",
      "id": "ce914706",
      "metadata": {
        "id": "ce914706"
      },
      "source": [
        "Now we define our neural network with the given layers and add the weights and biases to the dictionary `parameters`. **You are allowed to modify the values of the layers**."
      ]
    },
    {
      "cell_type": "code",
      "execution_count": 9,
      "id": "8f3867d7",
      "metadata": {
        "colab": {
          "base_uri": "https://localhost:8080/"
        },
        "id": "8f3867d7",
        "outputId": "8499d2a8-fd04-4d5f-db84-a05a86f17d85"
      },
      "outputs": [
        {
          "output_type": "execute_result",
          "data": {
            "text/plain": [
              "dict_keys(['w0', 'b0', 'w1', 'b1', 'w2', 'b2', 'w3', 'b3', 'w4', 'b4'])"
            ]
          },
          "metadata": {},
          "execution_count": 9
        }
      ],
      "source": [
        "# input_dim : input dimention of the first layer, which you have calculated before.\n",
        "layers = [\n",
        "    (input_dim, 512),\n",
        "    (512, 256),\n",
        "    (256, 128),\n",
        "    (128, 64),\n",
        "    (64, class_count)\n",
        "]\n",
        "num_layers = len(layers)\n",
        "parameters = {}\n",
        "\n",
        "# setting the device\n",
        "device = torch.device(\"cuda\" if torch.cuda.is_available() else \"cpu\")\n",
        "\n",
        "# adding the parameters to the dictionary\n",
        "for i, shape in enumerate(layers):\n",
        "    add_linear_layer(parameters, shape, device, i)\n",
        "\n",
        "parameters.keys()"
      ]
    },
    {
      "cell_type": "markdown",
      "id": "8bfd2c8e",
      "metadata": {
        "id": "8bfd2c8e"
      },
      "source": [
        "## Defining the required functions\n",
        "\n",
        "In this section, we should define the required functions. For each of these functions, the inputs and the desired outputs are given and you should write all or part of the function. **You are not allowed to use the activation functions and the loss functions implemented in torch**."
      ]
    },
    {
      "cell_type": "markdown",
      "id": "f3b413d8",
      "metadata": {
        "id": "f3b413d8"
      },
      "source": [
        "Computing affine and relu outputs:"
      ]
    },
    {
      "cell_type": "code",
      "execution_count": 10,
      "id": "bebeeb0e",
      "metadata": {
        "id": "bebeeb0e"
      },
      "outputs": [],
      "source": [
        "def affine_forward(x, w, b):\n",
        "    ## FILL HERE\n",
        "    return  torch.matmul(x, w) + b\n",
        "\n",
        "def relu(x):\n",
        "    ## FILL HERE\n",
        "    return torch.max(x, torch.zeros_like(x))"
      ]
    },
    {
      "cell_type": "markdown",
      "id": "5d9baa5e",
      "metadata": {
        "id": "5d9baa5e"
      },
      "source": [
        "Function `model` returns output of the whole model for the input `x` using the parameters:"
      ]
    },
    {
      "cell_type": "code",
      "execution_count": 11,
      "id": "d2562962",
      "metadata": {
        "id": "d2562962"
      },
      "outputs": [],
      "source": [
        "def model(x: torch.Tensor, parameters, num_layers=num_layers):\n",
        "    # number of batches\n",
        "    B = x.shape[0]\n",
        "    x = x.view(B, -1)\n",
        "    for i in range(num_layers):\n",
        "        w = parameters[f'w{i}']\n",
        "        b = parameters[f'b{i}']\n",
        "        x = affine_forward(x, w, b) # Matrix multiplication and bias addition\n",
        "        if i < num_layers - 1:  # Apply activation function except for the last layer\n",
        "            x = relu(x)\n",
        "    return x"
      ]
    },
    {
      "cell_type": "markdown",
      "id": "d17a9b4c",
      "metadata": {
        "id": "d17a9b4c"
      },
      "source": [
        "Implementing cross entropy loss:"
      ]
    },
    {
      "cell_type": "code",
      "execution_count": 12,
      "id": "6959621c",
      "metadata": {
        "id": "6959621c"
      },
      "outputs": [],
      "source": [
        "def cross_entropy_loss(scores, y):\n",
        "    n = len(y)\n",
        "    if y.dim() == 1:\n",
        "        y_vec = torch.zeros_like(scores)\n",
        "        y_vec[range(n), y] = 1\n",
        "    else:\n",
        "        y_vec = y\n",
        "    log_probs = torch.log(scores)\n",
        "    loss = -torch.sum(y_vec * log_probs) / n\n",
        "    return loss"
      ]
    },
    {
      "cell_type": "markdown",
      "id": "15a589af",
      "metadata": {
        "id": "15a589af"
      },
      "source": [
        "Implementing a function for optimizing paramters and a function to zeroing out their gradients:"
      ]
    },
    {
      "cell_type": "code",
      "execution_count": 13,
      "id": "3121c147",
      "metadata": {
        "id": "3121c147"
      },
      "outputs": [],
      "source": [
        "def sgd_optimizer(parameters: Dict[str, torch.Tensor], learning_rate=0.001):\n",
        "    '''This function gets the parameters and a learning rate. Then updates the parameters using their\n",
        "    gradient. Finally, you should zero the gradients of the parameters after updating\n",
        "    the parameter value.'''\n",
        "    ## FILL HERE\n",
        "    for param_name, param_tensor in parameters.items():\n",
        "        if param_tensor.grad is not None:\n",
        "            # Update parameter using gradient descent\n",
        "            param_tensor.data -= learning_rate * param_tensor.grad.data\n",
        "            # Zero the gradients\n",
        "            param_tensor.grad.data.zero_()"
      ]
    },
    {
      "cell_type": "markdown",
      "id": "e17b4cf8",
      "metadata": {
        "id": "e17b4cf8"
      },
      "source": [
        "Training functions:"
      ]
    },
    {
      "cell_type": "code",
      "execution_count": 14,
      "id": "76c0f03b",
      "metadata": {
        "id": "76c0f03b"
      },
      "outputs": [],
      "source": [
        "def accuracy(y_pred: np.ndarray, y_true: np.ndarray):\n",
        "    return (y_pred == y_true).sum() / len(y_true)\n",
        "\n",
        "def train(train_loader, parameters, learning_rate=0.001, epoch=None):\n",
        "    train_loss = 0\n",
        "    N_train = len(train_loader.dataset)\n",
        "    Y = []\n",
        "    Y_pred = []\n",
        "\n",
        "    for i, (x, y) in enumerate(train_loader):\n",
        "        x = x.to(device)\n",
        "        y = y.to(device)\n",
        "        p = model(x, parameters)\n",
        "\n",
        "        # Manual calculation of cross-entropy loss\n",
        "        log_prob = torch.log_softmax(p, dim=-1)\n",
        "        loss = -torch.sum(log_prob[range(len(y)), y]) / len(y)\n",
        "\n",
        "        train_loss += loss.item()\n",
        "        loss.backward()\n",
        "        sgd_optimizer(parameters, learning_rate)\n",
        "        y_pred = p.argmax(dim=-1)\n",
        "        Y.append(y.cpu().numpy())\n",
        "        Y_pred.append(y_pred.cpu().numpy())\n",
        "\n",
        "    Y = np.concatenate(Y)\n",
        "    Y_pred = np.concatenate(Y_pred)\n",
        "    acc = accuracy(Y_pred, Y)\n",
        "    print(f'Accuracy of train set in Epoch [{epoch+1}]: {acc:.4f}')\n",
        "    train_loss /= len(train_loader)\n",
        "    return train_loss, acc\n",
        "\n",
        "\n",
        "def validate(loader, epoch=None, set_name=None):\n",
        "    '''This function validates the model on the test dataloader. The function goes through each batch and does\n",
        "    the following on each batch:\n",
        "        1- Calculate the model output\n",
        "        2- Calculate the loss using the model output\n",
        "        3- Print the loss for each batch and epoch\n",
        "\n",
        "    Finally the function calculates the model accuracy.'''\n",
        "    total_loss = 0\n",
        "    N = len(loader.dataset)\n",
        "\n",
        "    # Creating empty lists Y and Y_pred to store the labels and predictions of each batch\n",
        "    # for calculateing the accuracy later\n",
        "    Y = []\n",
        "    Y_pred = []\n",
        "    for i, (x, y) in enumerate(train_loader):\n",
        "        x = x.to(device)\n",
        "        y = y.to(device)\n",
        "        p = model(x, parameters)\n",
        "\n",
        "        ## FILL HERE\n",
        "\n",
        "        y_pred = p.argmax(dim=-1)\n",
        "        Y.append(y.cpu().numpy())\n",
        "        Y_pred.append(y_pred.cpu().numpy())\n",
        "    Y = np.concatenate(Y)\n",
        "    Y_pred = np.concatenate(Y_pred)\n",
        "    total_loss /= N\n",
        "    acc = accuracy(Y_pred, Y)\n",
        "    print(f'Accuracy of {set_name} set: {acc}')\n",
        "\n",
        "    return total_loss, acc"
      ]
    },
    {
      "cell_type": "code",
      "execution_count": 15,
      "id": "87ebb4b6",
      "metadata": {
        "id": "87ebb4b6"
      },
      "outputs": [],
      "source": [
        "train_losses = []\n",
        "test_losses = []\n",
        "train_accuracies = []\n",
        "test_accuracies = []"
      ]
    },
    {
      "cell_type": "code",
      "execution_count": 16,
      "id": "28d4eb0b",
      "metadata": {
        "id": "28d4eb0b"
      },
      "outputs": [],
      "source": [
        "def train_model(dataloaders, num_epochs, learning_rate=0.001, model_name='pytorch_model'):\n",
        "    '''This function trains the model for the number of epochs given and stores, calculates and prints the train\n",
        "    and test losses and accuracies. Finally, it plots the accuracy and loss history for training and test sets'''\n",
        "    train_loader, test_loader = dataloaders\n",
        "    for epoch in range(num_epochs):\n",
        "        train_loss, train_acc = train(train_loader, parameters, learning_rate, epoch)\n",
        "        test_loss, test_acc = validate(test_loader, epoch, \"test\")\n",
        "\n",
        "        train_losses.append(train_loss)\n",
        "        test_losses.append(test_loss)\n",
        "        train_accuracies.append(train_acc)\n",
        "        test_accuracies.append(test_acc)\n",
        "\n",
        "    # Plot the loss history of training and test sets\n",
        "    plt.figure()\n",
        "    plt.plot(range(1, num_epochs + 1), train_losses, label='Training Loss')\n",
        "    plt.plot(range(1, num_epochs + 1), test_losses, label='Test Loss')\n",
        "    plt.xlabel('Epoch')\n",
        "    plt.ylabel('Loss')\n",
        "    plt.show()\n",
        "\n",
        "    # Plot the accuracy history of training and test sets\n",
        "    plt.figure()\n",
        "    plt.plot(range(1, num_epochs + 1), train_accuracies, label='Training Accuracy')\n",
        "    plt.plot(range(1, num_epochs + 1), test_accuracies, label='Test Accuracy')\n",
        "    plt.xlabel('Epoch')\n",
        "    plt.ylabel('Accuracy')\n",
        "    plt.show()"
      ]
    },
    {
      "cell_type": "code",
      "execution_count": null,
      "id": "2ec4bdd2",
      "metadata": {
        "colab": {
          "base_uri": "https://localhost:8080/"
        },
        "id": "2ec4bdd2",
        "outputId": "043d9b25-9e87-4b4d-fab1-ccdd064bffc3"
      },
      "outputs": [
        {
          "output_type": "stream",
          "name": "stdout",
          "text": [
            "Accuracy of train set in Epoch [1]: 0.3372\n",
            "Accuracy of test set: 0.3825\n",
            "Accuracy of train set in Epoch [2]: 0.3849\n",
            "Accuracy of test set: 0.3539\n",
            "Accuracy of train set in Epoch [3]: 0.4879\n",
            "Accuracy of test set: 0.56265\n",
            "Accuracy of train set in Epoch [4]: 0.6177\n",
            "Accuracy of test set: 0.6572333333333333\n",
            "Accuracy of train set in Epoch [5]: 0.6781\n",
            "Accuracy of test set: 0.7116\n",
            "Accuracy of train set in Epoch [6]: 0.7223\n",
            "Accuracy of test set: 0.7513166666666666\n",
            "Accuracy of train set in Epoch [7]: 0.7551\n",
            "Accuracy of test set: 0.7625333333333333\n",
            "Accuracy of train set in Epoch [8]: 0.7750\n",
            "Accuracy of test set: 0.7858833333333334\n",
            "Accuracy of train set in Epoch [9]: 0.7895\n",
            "Accuracy of test set: 0.8007\n",
            "Accuracy of train set in Epoch [10]: 0.8006\n",
            "Accuracy of test set: 0.8002833333333333\n",
            "Accuracy of train set in Epoch [11]: 0.8094\n",
            "Accuracy of test set: 0.8104333333333333\n",
            "Accuracy of train set in Epoch [12]: 0.8165\n",
            "Accuracy of test set: 0.8231\n",
            "Accuracy of train set in Epoch [13]: 0.8205\n",
            "Accuracy of test set: 0.8250333333333333\n",
            "Accuracy of train set in Epoch [14]: 0.8267\n",
            "Accuracy of test set: 0.8314666666666667\n",
            "Accuracy of train set in Epoch [15]: 0.8316\n",
            "Accuracy of test set: 0.8336833333333333\n",
            "Accuracy of train set in Epoch [16]: 0.8351\n",
            "Accuracy of test set: 0.8419166666666666\n",
            "Accuracy of train set in Epoch [17]: 0.8380\n",
            "Accuracy of test set: 0.8345166666666667\n",
            "Accuracy of train set in Epoch [18]: 0.8417\n",
            "Accuracy of test set: 0.8474166666666667\n",
            "Accuracy of train set in Epoch [19]: 0.8442\n",
            "Accuracy of test set: 0.8483166666666667\n",
            "Accuracy of train set in Epoch [20]: 0.8484\n",
            "Accuracy of test set: 0.8514166666666667\n",
            "Accuracy of train set in Epoch [21]: 0.8505\n",
            "Accuracy of test set: 0.8552333333333333\n",
            "Accuracy of train set in Epoch [22]: 0.8542\n",
            "Accuracy of test set: 0.8558166666666667\n",
            "Accuracy of train set in Epoch [23]: 0.8560\n",
            "Accuracy of test set: 0.8542666666666666\n",
            "Accuracy of train set in Epoch [24]: 0.8592\n",
            "Accuracy of test set: 0.8552\n"
          ]
        }
      ],
      "source": [
        "train_model([train_loader, test_loader], num_epochs=25, learning_rate=0.005)"
      ]
    },
    {
      "cell_type": "code",
      "execution_count": null,
      "id": "ceb5783f",
      "metadata": {
        "id": "ceb5783f"
      },
      "outputs": [],
      "source": [
        "print(f'Final test accuracy: {test_accuracies[-1]}')"
      ]
    },
    {
      "cell_type": "markdown",
      "id": "a5e128ed",
      "metadata": {
        "id": "a5e128ed"
      },
      "source": [
        "## Visualization of the labels and predictions\n",
        "\n",
        "In this section, you should visual one image from each class and show both the actual label and the predicted label for that image."
      ]
    },
    {
      "cell_type": "code",
      "execution_count": 23,
      "id": "6c0b79fd",
      "metadata": {
        "id": "6c0b79fd",
        "colab": {
          "base_uri": "https://localhost:8080/",
          "height": 582
        },
        "outputId": "d24b2e0b-1f95-47c7-91c5-9e62b3567aa3"
      },
      "outputs": [
        {
          "output_type": "display_data",
          "data": {
            "text/plain": [
              "<Figure size 1200x600 with 10 Axes>"
            ],
            "image/png": "[encoded data removed]"
          },
          "metadata": {}
        }
      ],
      "source": [
        "import torch\n",
        "import matplotlib.pyplot as plt\n",
        "\n",
        "def get_one_image_per_class(data_loader, model, parameters):\n",
        "    images_per_class = {}\n",
        "    labels_predictions = {}\n",
        "\n",
        "    with torch.no_grad():\n",
        "        for inputs, targets in data_loader:\n",
        "            inputs = inputs.to(device)\n",
        "            targets = targets.to(device)\n",
        "            outputs = model(inputs, parameters)\n",
        "            _, predicted = torch.max(outputs, 1)\n",
        "\n",
        "            for i in range(len(targets)):\n",
        "                target = targets[i].item()\n",
        "\n",
        "                if target not in images_per_class:\n",
        "                    images_per_class[target] = inputs[i].cpu()\n",
        "                    labels_predictions[target] = (targets[i].item(), predicted[i].item())\n",
        "\n",
        "                if len(images_per_class) >= 10:\n",
        "                    return images_per_class, labels_predictions\n",
        "\n",
        "    return images_per_class, labels_predictions\n",
        "\n",
        "def display_images(images_per_class, labels_predictions, class_names):\n",
        "    fig, axes = plt.subplots(2, 5, figsize=(12, 6))\n",
        "    axes = axes.flatten()\n",
        "\n",
        "    for i, (class_label, image) in enumerate(images_per_class.items()):\n",
        "        ax = axes[i]\n",
        "        ax.imshow(image.squeeze(), cmap='gray')\n",
        "        actual_label, predicted_label = labels_predictions[class_label]\n",
        "        ax.set_title(f'Actual: {class_names[actual_label]}\\nPredicted: {class_names[predicted_label]}')\n",
        "        ax.axis('off')\n",
        "\n",
        "    plt.tight_layout()\n",
        "    plt.show()\n",
        "\n",
        "# Usage\n",
        "images_per_class, labels_predictions = get_one_image_per_class(test_loader, model, parameters)\n",
        "class_names = test_loader.dataset.classes\n",
        "display_images(images_per_class, labels_predictions, class_names)\n"
      ]
    },
    {
      "cell_type": "code",
      "source": [],
      "metadata": {
        "id": "WwR99PVyQhrk"
      },
      "id": "WwR99PVyQhrk",
      "execution_count": null,
      "outputs": []
    }
  ],
  "metadata": {
    "colab": {
      "provenance": []
    },
    "kernelspec": {
      "display_name": "Python 3",
      "language": "python",
      "name": "python3"
    },
    "language_info": {
      "codemirror_mode": {
        "name": "ipython",
        "version": 3
      },
      "file_extension": ".py",
      "mimetype": "text/x-python",
      "name": "python",
      "nbconvert_exporter": "python",
      "pygments_lexer": "ipython3",
      "version": "3.11.4"
    }
  },
  "nbformat": 4,
  "nbformat_minor": 5
}