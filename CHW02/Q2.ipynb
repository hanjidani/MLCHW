{
  "cells": [
    {
      "cell_type": "markdown",
      "metadata": {
        "id": "ChC3RF8meAlK"
      },
      "source": [
        "<h1 align=\"center\">Introduction to Machine Learning - 25737-2</h1>\n",
        "<h4 align=\"center\">Dr. R. Amiri</h4>\n",
        "<h4 align=\"center\">Sharif University of Technology, Spring 2024</h4>\n",
        "\n",
        "\n",
        "**<font color='red'>Plagiarism is strongly prohibited!</font>**\n",
        "\n",
        "\n",
        "**Student Name**: Hossein Anjidani\n",
        "\n",
        "**Student ID**: 400100746"
      ]
    },
    {
      "cell_type": "markdown",
      "metadata": {
        "id": "IraiR0SbeDi_"
      },
      "source": [
        "# Logistic Regression"
      ]
    },
    {
      "cell_type": "code",
      "execution_count": 1,
      "metadata": {
        "id": "64seN6aUlOeV"
      },
      "outputs": [],
      "source": [
        "## Import necessary libraries here ##\n",
        "import pandas as pd\n",
        "from google.colab import drive\n",
        "import os\n",
        "from sklearn.model_selection import train_test_split\n",
        "from sklearn.metrics import r2_score, mean_squared_error\n",
        "# import cupy as np\n",
        "from sklearn.linear_model import Ridge\n",
        "import matplotlib.pyplot as plt\n",
        "from sklearn.linear_model import Lasso\n",
        "import torch\n",
        "import numpy as np\n",
        "from sklearn.model_selection import train_test_split\n",
        "from sklearn.preprocessing import StandardScaler\n",
        "from sklearn.metrics import accuracy_score, precision_score, recall_score, f1_score\n",
        "from sklearn.preprocessing import LabelEncoder\n",
        "from sklearn.linear_model import LogisticRegression\n",
        "from sklearn.model_selection import GridSearchCV"
      ]
    },
    {
      "cell_type": "code",
      "source": [
        "drive.mount('/content/drive')\n",
        "path = os.path.join('/content/drive/MyDrive/UNI/Sem 6/ML/IML_CHW2/', 'Q2')"
      ],
      "metadata": {
        "colab": {
          "base_uri": "https://localhost:8080/"
        },
        "id": "8T5dCp1k3apR",
        "outputId": "cea3da63-ec9b-4fd6-b45c-b4a484843be7"
      },
      "execution_count": 2,
      "outputs": [
        {
          "output_type": "stream",
          "name": "stdout",
          "text": [
            "Mounted at /content/drive\n"
          ]
        }
      ]
    },
    {
      "cell_type": "markdown",
      "metadata": {
        "id": "nRQjwWC3eDnc"
      },
      "source": [
        "**Task:** Implement your own Logistic Regression model, and test it on the given dataset of Logistic_question.csv!"
      ]
    },
    {
      "cell_type": "code",
      "execution_count": 3,
      "metadata": {
        "id": "7-Y7b03C2du9"
      },
      "outputs": [],
      "source": [
        "class MyLogisticRegression:\n",
        "    def __init__(self, learning_rate=0.01, num_iterations=1000):\n",
        "        self.learning_rate = learning_rate\n",
        "        self.num_iterations = num_iterations\n",
        "        self.weights = None\n",
        "        self.bias = None\n",
        "\n",
        "    def sigmoid(self, z):\n",
        "        return 1 / (1 + np.exp(-z))\n",
        "\n",
        "    def loss(self, y_pred, y_true):\n",
        "        return -np.mean(y_true * np.log(y_pred) + (1 - y_true) * np.log(1 - y_pred))\n",
        "\n",
        "    def fit(self, X, y):\n",
        "        num_samples, num_features = X.shape\n",
        "        self.weights = np.zeros(num_features)\n",
        "        self.bias = 0\n",
        "\n",
        "        for _ in range(self.num_iterations):\n",
        "            linear_model = np.dot(X, self.weights) + self.bias\n",
        "            y_pred = self.sigmoid(linear_model)\n",
        "\n",
        "            dw = (1 / num_samples) * np.dot(X.T, (y_pred - y))\n",
        "            db = (1 / num_samples) * np.sum(y_pred - y)\n",
        "\n",
        "            self.weights -= self.learning_rate * dw\n",
        "            self.bias -= self.learning_rate * db\n",
        "\n",
        "    def predict(self, X):\n",
        "        linear_model = np.dot(X, self.weights) + self.bias\n",
        "        y_pred = self.sigmoid(linear_model)\n",
        "        y_pred_class = [1 if i > 0.5 else 0 for i in y_pred]\n",
        "        return y_pred_class\n",
        "    def predict_proba(self, X):\n",
        "        linear_model = np.dot(X, self.weights) + self.bias\n",
        "        y_pred = self.sigmoid(linear_model)\n",
        "        return np.column_stack((1 - y_pred, y_pred))"
      ]
    },
    {
      "cell_type": "markdown",
      "metadata": {
        "id": "S-i-oubUlZ6e"
      },
      "source": [
        "**Task:** Test your model on the given dataset. You must split your data into train and test, with a 0.2 split, then normalize your data using X_train data. Finally, report 4 different evaluation metrics of the model on the test set. (You might want to first make the Target column binary!)"
      ]
    },
    {
      "cell_type": "code",
      "execution_count": 4,
      "metadata": {
        "colab": {
          "base_uri": "https://localhost:8080/"
        },
        "id": "0KXzIy_2u-pG",
        "outputId": "211e10fa-a3ea-4ed0-96a9-dbe2891aa4a8"
      },
      "outputs": [
        {
          "output_type": "stream",
          "name": "stdout",
          "text": [
            "Accuracy: 0.8750\n",
            "Precision: 0.8750\n",
            "Recall: 1.0000\n",
            "F1-score: 0.9333\n"
          ]
        }
      ],
      "source": [
        "df = pd.read_csv(os.path.join(path, 'Logistic_question.csv'))\n",
        "# Make the Target column binary\n",
        "df['Target'] = df['Target'].apply(lambda x: 1 if x > 0.5 else 0)\n",
        "\n",
        "# Split the data into features and target\n",
        "X = df.drop('Target', axis=1).values\n",
        "y = df['Target']\n",
        "\n",
        "# Split the data into train and test sets\n",
        "X_train, X_test, y_train, y_test = train_test_split(X, y, test_size=0.2, random_state=42)\n",
        "\n",
        "# Normalize the data using X_train data\n",
        "scaler = StandardScaler()\n",
        "X_train = scaler.fit_transform(X_train)\n",
        "X_test = scaler.transform(X_test)\n",
        "\n",
        "# Train the model\n",
        "model = MyLogisticRegression()\n",
        "model.fit(X_train, y_train)\n",
        "# print(model.weights)\n",
        "# Make predictions\n",
        "y_pred = model.predict(X_test)\n",
        "\n",
        "# Evaluate the model\n",
        "accuracy = accuracy_score(y_test, y_pred)\n",
        "precision = precision_score(y_test, y_pred)\n",
        "recall = recall_score(y_test, y_pred)\n",
        "f1 = f1_score(y_test, y_pred)\n",
        "# print(df)\n",
        "# Print the evaluation metrics\n",
        "print(f\"Accuracy: {accuracy:.4f}\")\n",
        "print(f\"Precision: {precision:.4f}\")\n",
        "print(f\"Recall: {recall:.4f}\")\n",
        "print(f\"F1-score: {f1:.4f}\")"
      ]
    },
    {
      "cell_type": "markdown",
      "metadata": {
        "id": "Ji0RXNGKv1pa"
      },
      "source": [
        "**Question:** What are each of your used evaluation metrics? And for each one, mention situations in which they convey more data on the model performance in specific tasks."
      ]
    },
    {
      "cell_type": "markdown",
      "metadata": {
        "id": "ldveD35twRRZ"
      },
      "source": [
        "**Your answer:**\n",
        "\n",
        "The evaluation metrics used in the provided code are Accuracy, Precision, Recall, and F1 Score. These metrics are commonly used for assessing the performance of classification models, including Logistic Regression.\n",
        "\n",
        "\n",
        "`Accuracy`: This is the proportion of correct predictions out of the total number of predictions. It is the most commonly used metric for evaluating classification models. However, it can be misleading when classes are imbalanced.\n",
        "Accuracy is useful when the dataset is balanced, and the cost of false positives and false negatives is similar. It is a good overall measure of model performance but may not be the best choice in specific situations where false positives or false negatives have different costs.\n",
        "\n",
        "\n",
        "`Precision`: This metric measures the proportion of true positive predictions out of all positive predictions. It is useful when the cost of false positives is high, such as in spam detection, where incorrectly marking a legitimate email as spam is undesirable.\n",
        "Precision is useful when the dataset has a high imbalance in favor of the negative class, and the cost of false positives is high. It is a good measure of the model's ability to correctly identify positive instances.\n",
        "\n",
        "\n",
        "`Recall` (Sensitivity or True Positive Rate): This metric measures the proportion of true positive predictions out of all actual positive instances. It is useful when the cost of false negatives is high, such as in medical diagnosis, where missing a positive case can have severe consequences.\n",
        "Recall is useful when the dataset has a high imbalance in favor of the positive class, and the cost of false negatives is high. It is a good measure of the model's ability to correctly identify positive instances.\n",
        "\n",
        "\n",
        "`F1 Score`: This metric is the harmonic mean of Precision and Recall, balancing both metrics. It is useful when both false positives and false negatives have similar costs or when you want to find a balance between Precision and Recall.\n",
        "F1 Score is useful when the dataset is imbalanced, and you want to balance the trade-off between Precision and Recall. It is a good overall measure of model performance when both false positives and false negatives have similar costs."
      ]
    },
    {
      "cell_type": "markdown",
      "metadata": {
        "id": "1ZCeRHZSw-mh"
      },
      "source": [
        "**Task:** Now test the built-in function of Python for Logistic Regression, and report all the same metrics used before."
      ]
    },
    {
      "cell_type": "code",
      "execution_count": 5,
      "metadata": {
        "id": "Vb5lRSQXDLR3",
        "colab": {
          "base_uri": "https://localhost:8080/"
        },
        "outputId": "018d9668-5964-430c-a6d4-ddc895fd886e"
      },
      "outputs": [
        {
          "output_type": "stream",
          "name": "stdout",
          "text": [
            "Accuracy: 0.8750\n",
            "Precision: 0.8750\n",
            "Recall: 1.0000\n",
            "F1-score: 0.9333\n"
          ]
        }
      ],
      "source": [
        "# Load the dataset\n",
        "df = pd.read_csv(os.path.join(path, 'Logistic_question.csv'))\n",
        "\n",
        "# Make the Target column binary\n",
        "df['Target'] = df['Target'].apply(lambda x: 1 if x > 0.5 else 0)\n",
        "\n",
        "# Split the data into features and target\n",
        "X = df.drop('Target', axis=1).values\n",
        "y = df['Target'].values\n",
        "\n",
        "# Split the data into train and test sets\n",
        "X_train, X_test, y_train, y_test = train_test_split(X, y, test_size=0.2, random_state=42)\n",
        "\n",
        "# Normalize the data using X_train data\n",
        "scaler = StandardScaler()\n",
        "X_train = scaler.fit_transform(X_train)\n",
        "X_test = scaler.transform(X_test)\n",
        "\n",
        "# Train the model\n",
        "model = MyLogisticRegression()\n",
        "model.fit(X_train, y_train)\n",
        "\n",
        "# Make predictions\n",
        "y_pred = model.predict(X_test)\n",
        "\n",
        "# Evaluate the model\n",
        "accuracy = accuracy_score(y_test, y_pred)\n",
        "precision = precision_score(y_test, y_pred)\n",
        "recall = recall_score(y_test, y_pred)\n",
        "f1 = f1_score(y_test, y_pred)\n",
        "\n",
        "# Print the evaluation metrics\n",
        "print(f\"Accuracy: {accuracy:.4f}\")\n",
        "print(f\"Precision: {precision:.4f}\")\n",
        "print(f\"Recall: {recall:.4f}\")\n",
        "print(f\"F1-score: {f1:.4f}\")"
      ]
    },
    {
      "cell_type": "markdown",
      "metadata": {
        "id": "RCvIymmMy_ji"
      },
      "source": [
        "**Question:** Compare your function with the built-in function. On the matters of performance and parameters. Briefly explain what the parameters of the built-in function are and how they affect the model's performance?"
      ]
    },
    {
      "cell_type": "markdown",
      "metadata": {
        "id": "EY0ohM16z3De"
      },
      "source": [
        "**Your answer:**\n",
        "\n",
        "When comparing a custom Logistic Regression function with the built-in function from Scikit-learn, there are several aspects to consider regarding performance and parameters.\n",
        "\n",
        "\n",
        "Performance:\n",
        "* Custom Function vs. Built-in Function:\n",
        "* * The custom function may offer more flexibility in terms of customization and understanding the inner workings of the model.\n",
        "* * The built-in function from Scikit-learn is optimized for performance and efficiency, making it suitable for large datasets and production environments.\n",
        "\n",
        "\n",
        "Parameters:\n",
        "* Custom Function:\n",
        "* * In the custom function, parameters like learning rate, number of iterations, and regularization strength can be adjusted based on specific requirements.\n",
        "* * The custom function may lack some advanced features and optimizations present in the built-in function.\n",
        "\n",
        "\n",
        "* Built-in Function (Scikit-learn):\n",
        "* * Parameters of the built-in Logistic Regression function in Scikit-learn include:\n",
        "* * * `penalty`: Specifies the norm used in the penalization (L1 or L2).\n",
        "* * * `C`: Inverse of regularization strength; smaller values specify stronger regularization.\n",
        "* * * `solver`: Algorithm to use in the optimization problem (e.g., 'liblinear', 'lbfgs', 'sag', 'saga').\n",
        "* * * `max_iter`: Maximum number of iterations taken for the solvers to converge.\n",
        "* * * `class_weight`: Weights associated with classes in the form {class_label: weight}.\n",
        "Impact on Model's Performance:\n",
        "* Parameter Tuning:\n",
        "* * Adjusting parameters like regularization strength (C) and solver choice can significantly impact the model's performance.\n",
        "* * Proper parameter tuning can help prevent overfitting and improve generalization.\n",
        "* Built-in Function Efficiency:\n",
        "* * The built-in function is optimized for performance and handles various aspects like parallelization and memory management efficiently.\n",
        "* * It incorporates best practices in model training and evaluation, leading to reliable results.\n",
        "\n",
        "In summary, while a custom Logistic Regression function provides flexibility and understanding, the built-in function from Scikit-learn offers optimized performance, advanced features, and efficient parameter tuning capabilities, making it a preferred choice for practical applications and large-scale datasets."
      ]
    },
    {
      "cell_type": "markdown",
      "metadata": {
        "id": "ClMqoYlr2kr7"
      },
      "source": [
        "# Multinomial Logistic Regression"
      ]
    },
    {
      "cell_type": "markdown",
      "metadata": {
        "id": "ukvlqDe52xP5"
      },
      "source": [
        "**Task:** Implement your own Multinomial Logistic Regression model. Your model must be able to handle any number of labels!"
      ]
    },
    {
      "cell_type": "code",
      "execution_count": 6,
      "metadata": {
        "id": "5Ir-_hFt286t"
      },
      "outputs": [],
      "source": [
        "class MyMultinomialLogisticRegression:\n",
        "    def __init__(self, learning_rate=0.01, num_iterations=1000):\n",
        "        self.learning_rate = learning_rate\n",
        "        self.num_iterations = num_iterations\n",
        "        self.weights = None\n",
        "        self.bias = None\n",
        "\n",
        "    def softmax(self, z):\n",
        "        exp_z = np.exp(z - np.max(z, axis=1, keepdims=True))\n",
        "        return exp_z / np.sum(exp_z, axis=1, keepdims=True)\n",
        "\n",
        "    def loss(self, y_pred, y_true):\n",
        "        return -np.mean(y_true * np.log(y_pred))\n",
        "\n",
        "    def fit(self, X, y):\n",
        "        num_samples, num_features = X.shape\n",
        "        num_classes = len(np.unique(y))\n",
        "        self.weights = np.zeros((num_features, num_classes))\n",
        "        self.bias = np.zeros(num_classes)\n",
        "\n",
        "        for _ in range(self.num_iterations):\n",
        "            linear_model = np.dot(X, self.weights) + self.bias\n",
        "            y_pred = self.softmax(linear_model)\n",
        "\n",
        "            dw = (1 / num_samples) * np.dot(X.T, (y_pred - np.eye(num_classes)[y]))\n",
        "            db = (1 / num_samples) * np.sum(y_pred - np.eye(num_classes)[y], axis=0)\n",
        "\n",
        "            self.weights -= self.learning_rate * dw\n",
        "            self.bias -= self.learning_rate * db\n",
        "\n",
        "    def predict(self, X):\n",
        "        linear_model = np.dot(X, self.weights) + self.bias\n",
        "        y_pred = self.softmax(linear_model)\n",
        "        y_pred_class = np.argmax(y_pred, axis=1)\n",
        "        return y_pred_class"
      ]
    },
    {
      "cell_type": "markdown",
      "metadata": {
        "id": "zPQ3Rtay3Y2_"
      },
      "source": [
        "**Task:** Test your model on the given dataset. Do the same as the previous part, but here you might want to first make the Target column quantized into $i$ levels. Change $i$ from 2 to 10."
      ]
    },
    {
      "cell_type": "code",
      "execution_count": 7,
      "metadata": {
        "id": "9aP4QJPq29B3",
        "colab": {
          "base_uri": "https://localhost:8080/"
        },
        "outputId": "1fd86308-8aa0-4d39-b0c9-fb3457be43fb"
      },
      "outputs": [
        {
          "output_type": "stream",
          "name": "stdout",
          "text": [
            "Quantization Levels: 2\n",
            "Accuracy: 0.9375\n",
            "Precision: 0.9379\n",
            "Recall: 0.9375\n",
            "F1-score: 0.9375\n",
            "\n",
            "Quantization Levels: 3\n",
            "Accuracy: 0.8500\n",
            "Precision: 0.8625\n",
            "Recall: 0.8500\n",
            "F1-score: 0.8349\n",
            "\n",
            "Quantization Levels: 4\n",
            "Accuracy: 0.8625\n",
            "Precision: 0.8658\n",
            "Recall: 0.8625\n",
            "F1-score: 0.8627\n",
            "\n",
            "Quantization Levels: 5\n",
            "Accuracy: 0.5625\n",
            "Precision: 0.4909\n",
            "Recall: 0.5625\n",
            "F1-score: 0.5217\n",
            "\n",
            "Quantization Levels: 6\n",
            "Accuracy: 0.7875\n",
            "Precision: 0.7959\n",
            "Recall: 0.7875\n",
            "F1-score: 0.7843\n",
            "\n",
            "Quantization Levels: 7\n",
            "Accuracy: 0.5750\n",
            "Precision: 0.5226\n",
            "Recall: 0.5750\n",
            "F1-score: 0.5347\n",
            "\n"
          ]
        },
        {
          "output_type": "stream",
          "name": "stderr",
          "text": [
            "/usr/local/lib/python3.10/dist-packages/sklearn/metrics/_classification.py:1344: UndefinedMetricWarning: Precision is ill-defined and being set to 0.0 in labels with no predicted samples. Use `zero_division` parameter to control this behavior.\n",
            "  _warn_prf(average, modifier, msg_start, len(result))\n"
          ]
        },
        {
          "output_type": "stream",
          "name": "stdout",
          "text": [
            "Quantization Levels: 8\n",
            "Accuracy: 0.6625\n",
            "Precision: 0.6883\n",
            "Recall: 0.6625\n",
            "F1-score: 0.6378\n",
            "\n",
            "Quantization Levels: 9\n",
            "Accuracy: 0.5875\n",
            "Precision: 0.5246\n",
            "Recall: 0.5875\n",
            "F1-score: 0.5288\n",
            "\n",
            "Quantization Levels: 10\n",
            "Accuracy: 0.5500\n",
            "Precision: 0.5933\n",
            "Recall: 0.5500\n",
            "F1-score: 0.5294\n",
            "\n"
          ]
        },
        {
          "output_type": "stream",
          "name": "stderr",
          "text": [
            "/usr/local/lib/python3.10/dist-packages/sklearn/metrics/_classification.py:1344: UndefinedMetricWarning: Precision is ill-defined and being set to 0.0 in labels with no predicted samples. Use `zero_division` parameter to control this behavior.\n",
            "  _warn_prf(average, modifier, msg_start, len(result))\n",
            "/usr/local/lib/python3.10/dist-packages/sklearn/metrics/_classification.py:1344: UndefinedMetricWarning: Precision is ill-defined and being set to 0.0 in labels with no predicted samples. Use `zero_division` parameter to control this behavior.\n",
            "  _warn_prf(average, modifier, msg_start, len(result))\n"
          ]
        }
      ],
      "source": [
        "# Load the dataset\n",
        "df = pd.read_csv(os.path.join(path, 'Logistic_question.csv'))\n",
        "\n",
        "# Vary the number of levels for quantization (2 to 10)\n",
        "for num_levels in range(2, 11):\n",
        "    df[f'Target_{num_levels}'] = pd.qcut(df['Target'], num_levels, labels=False)\n",
        "\n",
        "    # Split the data into features and target\n",
        "    X = df.drop(['Target', f'Target_{num_levels}'], axis=1).values\n",
        "    y = df[f'Target_{num_levels}'].values\n",
        "\n",
        "    # Split the data into train and test sets\n",
        "    X_train, X_test, y_train, y_test = train_test_split(X, y, test_size=0.2, random_state=42)\n",
        "\n",
        "    # Normalize the data using X_train data\n",
        "    scaler = StandardScaler()\n",
        "    X_train = scaler.fit_transform(X_train)\n",
        "    X_test = scaler.transform(X_test)\n",
        "\n",
        "    # Train the model\n",
        "    model = MyMultinomialLogisticRegression()\n",
        "    model.fit(X_train, y_train)\n",
        "\n",
        "    # Make predictions\n",
        "    y_pred = model.predict(X_test)\n",
        "\n",
        "    # Evaluate the model\n",
        "    accuracy = accuracy_score(y_test, y_pred)\n",
        "    precision = precision_score(y_test, y_pred, average='weighted')\n",
        "    recall = recall_score(y_test, y_pred, average='weighted')\n",
        "    f1 = f1_score(y_test, y_pred, average='weighted')\n",
        "\n",
        "    # Print the evaluation metrics for each level of quantization\n",
        "    print(f\"Quantization Levels: {num_levels}\")\n",
        "    print(f\"Accuracy: {accuracy:.4f}\")\n",
        "    print(f\"Precision: {precision:.4f}\")\n",
        "    print(f\"Recall: {recall:.4f}\")\n",
        "    print(f\"F1-score: {f1:.4f}\")\n",
        "    print()"
      ]
    },
    {
      "cell_type": "markdown",
      "metadata": {
        "id": "Of2sHl5Z4dXi"
      },
      "source": [
        "**Question:** Report for which $i$ your model performs best. Describe and analyze the results! You could use visualizations or any other method!"
      ]
    },
    {
      "cell_type": "markdown",
      "metadata": {
        "id": "cRLERDAr4wnS"
      },
      "source": [
        "**Your answer:**"
      ]
    },
    {
      "cell_type": "markdown",
      "metadata": {
        "id": "wT43jGKV6CBZ"
      },
      "source": [
        "# Going a little further!"
      ]
    },
    {
      "cell_type": "markdown",
      "metadata": {
        "id": "Vo9uGo0R6GZo"
      },
      "source": [
        "First we download Adult income dataset from Kaggle! In order to do this create an account on this website, and create an API. A file named kaggle.json will be downloaded to your device. Then use the following code:"
      ]
    },
    {
      "cell_type": "code",
      "execution_count": 8,
      "metadata": {
        "colab": {
          "base_uri": "https://localhost:8080/",
          "height": 73
        },
        "id": "o-vrjYBF7u1E",
        "outputId": "354a54ed-e813-4eb2-cf93-5aabc8a21916"
      },
      "outputs": [
        {
          "output_type": "display_data",
          "data": {
            "text/plain": [
              "<IPython.core.display.HTML object>"
            ],
            "text/html": [
              "\n",
              "     <input type=\"file\" id=\"files-1033dff9-a2c0-4bbd-b831-2c616012f1ec\" name=\"files[]\" multiple disabled\n",
              "        style=\"border:none\" />\n",
              "     <output id=\"result-1033dff9-a2c0-4bbd-b831-2c616012f1ec\">\n",
              "      Upload widget is only available when the cell has been executed in the\n",
              "      current browser session. Please rerun this cell to enable.\n",
              "      </output>\n",
              "      <script>// Copyright 2017 Google LLC\n",
              "//\n",
              "// Licensed under the Apache License, Version 2.0 (the \"License\");\n",
              "// you may not use this file except in compliance with the License.\n",
              "// You may obtain a copy of the License at\n",
              "//\n",
              "//      http://www.apache.org/licenses/LICENSE-2.0\n",
              "//\n",
              "// Unless required by applicable law or agreed to in writing, software\n",
              "// distributed under the License is distributed on an \"AS IS\" BASIS,\n",
              "// WITHOUT WARRANTIES OR CONDITIONS OF ANY KIND, either express or implied.\n",
              "// See the License for the specific language governing permissions and\n",
              "// limitations under the License.\n",
              "\n",
              "/**\n",
              " * @fileoverview Helpers for google.colab Python module.\n",
              " */\n",
              "(function(scope) {\n",
              "function span(text, styleAttributes = {}) {\n",
              "  const element = document.createElement('span');\n",
              "  element.textContent = text;\n",
              "  for (const key of Object.keys(styleAttributes)) {\n",
              "    element.style[key] = styleAttributes[key];\n",
              "  }\n",
              "  return element;\n",
              "}\n",
              "\n",
              "// Max number of bytes which will be uploaded at a time.\n",
              "const MAX_PAYLOAD_SIZE = 100 * 1024;\n",
              "\n",
              "function _uploadFiles(inputId, outputId) {\n",
              "  const steps = uploadFilesStep(inputId, outputId);\n",
              "  const outputElement = document.getElementById(outputId);\n",
              "  // Cache steps on the outputElement to make it available for the next call\n",
              "  // to uploadFilesContinue from Python.\n",
              "  outputElement.steps = steps;\n",
              "\n",
              "  return _uploadFilesContinue(outputId);\n",
              "}\n",
              "\n",
              "// This is roughly an async generator (not supported in the browser yet),\n",
              "// where there are multiple asynchronous steps and the Python side is going\n",
              "// to poll for completion of each step.\n",
              "// This uses a Promise to block the python side on completion of each step,\n",
              "// then passes the result of the previous step as the input to the next step.\n",
              "function _uploadFilesContinue(outputId) {\n",
              "  const outputElement = document.getElementById(outputId);\n",
              "  const steps = outputElement.steps;\n",
              "\n",
              "  const next = steps.next(outputElement.lastPromiseValue);\n",
              "  return Promise.resolve(next.value.promise).then((value) => {\n",
              "    // Cache the last promise value to make it available to the next\n",
              "    // step of the generator.\n",
              "    outputElement.lastPromiseValue = value;\n",
              "    return next.value.response;\n",
              "  });\n",
              "}\n",
              "\n",
              "/**\n",
              " * Generator function which is called between each async step of the upload\n",
              " * process.\n",
              " * @param {string} inputId Element ID of the input file picker element.\n",
              " * @param {string} outputId Element ID of the output display.\n",
              " * @return {!Iterable<!Object>} Iterable of next steps.\n",
              " */\n",
              "function* uploadFilesStep(inputId, outputId) {\n",
              "  const inputElement = document.getElementById(inputId);\n",
              "  inputElement.disabled = false;\n",
              "\n",
              "  const outputElement = document.getElementById(outputId);\n",
              "  outputElement.innerHTML = '';\n",
              "\n",
              "  const pickedPromise = new Promise((resolve) => {\n",
              "    inputElement.addEventListener('change', (e) => {\n",
              "      resolve(e.target.files);\n",
              "    });\n",
              "  });\n",
              "\n",
              "  const cancel = document.createElement('button');\n",
              "  inputElement.parentElement.appendChild(cancel);\n",
              "  cancel.textContent = 'Cancel upload';\n",
              "  const cancelPromise = new Promise((resolve) => {\n",
              "    cancel.onclick = () => {\n",
              "      resolve(null);\n",
              "    };\n",
              "  });\n",
              "\n",
              "  // Wait for the user to pick the files.\n",
              "  const files = yield {\n",
              "    promise: Promise.race([pickedPromise, cancelPromise]),\n",
              "    response: {\n",
              "      action: 'starting',\n",
              "    }\n",
              "  };\n",
              "\n",
              "  cancel.remove();\n",
              "\n",
              "  // Disable the input element since further picks are not allowed.\n",
              "  inputElement.disabled = true;\n",
              "\n",
              "  if (!files) {\n",
              "    return {\n",
              "      response: {\n",
              "        action: 'complete',\n",
              "      }\n",
              "    };\n",
              "  }\n",
              "\n",
              "  for (const file of files) {\n",
              "    const li = document.createElement('li');\n",
              "    li.append(span(file.name, {fontWeight: 'bold'}));\n",
              "    li.append(span(\n",
              "        `(${file.type || 'n/a'}) - ${file.size} bytes, ` +\n",
              "        `last modified: ${\n",
              "            file.lastModifiedDate ? file.lastModifiedDate.toLocaleDateString() :\n",
              "                                    'n/a'} - `));\n",
              "    const percent = span('0% done');\n",
              "    li.appendChild(percent);\n",
              "\n",
              "    outputElement.appendChild(li);\n",
              "\n",
              "    const fileDataPromise = new Promise((resolve) => {\n",
              "      const reader = new FileReader();\n",
              "      reader.onload = (e) => {\n",
              "        resolve(e.target.result);\n",
              "      };\n",
              "      reader.readAsArrayBuffer(file);\n",
              "    });\n",
              "    // Wait for the data to be ready.\n",
              "    let fileData = yield {\n",
              "      promise: fileDataPromise,\n",
              "      response: {\n",
              "        action: 'continue',\n",
              "      }\n",
              "    };\n",
              "\n",
              "    // Use a chunked sending to avoid message size limits. See b/62115660.\n",
              "    let position = 0;\n",
              "    do {\n",
              "      const length = Math.min(fileData.byteLength - position, MAX_PAYLOAD_SIZE);\n",
              "      const chunk = new Uint8Array(fileData, position, length);\n",
              "      position += length;\n",
              "\n",
              "      const base64 = btoa(String.fromCharCode.apply(null, chunk));\n",
              "      yield {\n",
              "        response: {\n",
              "          action: 'append',\n",
              "          file: file.name,\n",
              "          data: base64,\n",
              "        },\n",
              "      };\n",
              "\n",
              "      let percentDone = fileData.byteLength === 0 ?\n",
              "          100 :\n",
              "          Math.round((position / fileData.byteLength) * 100);\n",
              "      percent.textContent = `${percentDone}% done`;\n",
              "\n",
              "    } while (position < fileData.byteLength);\n",
              "  }\n",
              "\n",
              "  // All done.\n",
              "  yield {\n",
              "    response: {\n",
              "      action: 'complete',\n",
              "    }\n",
              "  };\n",
              "}\n",
              "\n",
              "scope.google = scope.google || {};\n",
              "scope.google.colab = scope.google.colab || {};\n",
              "scope.google.colab._files = {\n",
              "  _uploadFiles,\n",
              "  _uploadFilesContinue,\n",
              "};\n",
              "})(self);\n",
              "</script> "
            ]
          },
          "metadata": {}
        },
        {
          "output_type": "stream",
          "name": "stdout",
          "text": [
            "Saving kaggle.json to kaggle.json\n"
          ]
        }
      ],
      "source": [
        "from google.colab import files\n",
        "files.upload()  # Use this to select the kaggle.json file from your computer\n",
        "!mkdir -p ~/.kaggle\n",
        "!cp kaggle.json ~/.kaggle/\n",
        "!chmod 600 ~/.kaggle/kaggle.json"
      ]
    },
    {
      "cell_type": "markdown",
      "metadata": {
        "id": "5i6u6_1v8ftX"
      },
      "source": [
        "Then use this code to automatically download the dataset into Colab."
      ]
    },
    {
      "cell_type": "code",
      "execution_count": 9,
      "metadata": {
        "colab": {
          "base_uri": "https://localhost:8080/"
        },
        "id": "XjyVaVKF29Hx",
        "outputId": "203ed05a-eebd-4195-93f4-200e40849858"
      },
      "outputs": [
        {
          "output_type": "stream",
          "name": "stdout",
          "text": [
            "Downloading adult-income-dataset.zip to /content\n",
            "\r  0% 0.00/652k [00:00<?, ?B/s]\n",
            "\r100% 652k/652k [00:00<00:00, 114MB/s]\n",
            "Archive:  /content/adult-income-dataset.zip\n",
            "  inflating: adult.csv               \n"
          ]
        }
      ],
      "source": [
        "!kaggle datasets download -d wenruliu/adult-income-dataset\n",
        "!unzip /content/adult-income-dataset.zip"
      ]
    },
    {
      "cell_type": "markdown",
      "metadata": {
        "id": "EXQnbZwt8rJK"
      },
      "source": [
        "**Task:** Determine the number of null entries!"
      ]
    },
    {
      "cell_type": "code",
      "execution_count": 10,
      "metadata": {
        "colab": {
          "base_uri": "https://localhost:8080/"
        },
        "id": "JtuEx6QW29c1",
        "outputId": "ac81ca3c-c26a-43bc-deb8-7ddbd7b0491e"
      },
      "outputs": [
        {
          "output_type": "stream",
          "name": "stdout",
          "text": [
            "6465\n",
            "       age     workclass  fnlwgt     education  educational-num  \\\n",
            "0       25       Private  226802          11th                7   \n",
            "1       38       Private   89814       HS-grad                9   \n",
            "2       28     Local-gov  336951    Assoc-acdm               12   \n",
            "3       44       Private  160323  Some-college               10   \n",
            "4       18           NaN  103497  Some-college               10   \n",
            "...    ...           ...     ...           ...              ...   \n",
            "48837   27       Private  257302    Assoc-acdm               12   \n",
            "48838   40       Private  154374       HS-grad                9   \n",
            "48839   58       Private  151910       HS-grad                9   \n",
            "48840   22       Private  201490       HS-grad                9   \n",
            "48841   52  Self-emp-inc  287927       HS-grad                9   \n",
            "\n",
            "           marital-status         occupation relationship   race  gender  \\\n",
            "0           Never-married  Machine-op-inspct    Own-child  Black    Male   \n",
            "1      Married-civ-spouse    Farming-fishing      Husband  White    Male   \n",
            "2      Married-civ-spouse    Protective-serv      Husband  White    Male   \n",
            "3      Married-civ-spouse  Machine-op-inspct      Husband  Black    Male   \n",
            "4           Never-married                NaN    Own-child  White  Female   \n",
            "...                   ...                ...          ...    ...     ...   \n",
            "48837  Married-civ-spouse       Tech-support         Wife  White  Female   \n",
            "48838  Married-civ-spouse  Machine-op-inspct      Husband  White    Male   \n",
            "48839             Widowed       Adm-clerical    Unmarried  White  Female   \n",
            "48840       Never-married       Adm-clerical    Own-child  White    Male   \n",
            "48841  Married-civ-spouse    Exec-managerial         Wife  White  Female   \n",
            "\n",
            "       capital-gain  capital-loss  hours-per-week native-country income  \n",
            "0                 0             0              40  United-States  <=50K  \n",
            "1                 0             0              50  United-States  <=50K  \n",
            "2                 0             0              40  United-States   >50K  \n",
            "3              7688             0              40  United-States   >50K  \n",
            "4                 0             0              30  United-States  <=50K  \n",
            "...             ...           ...             ...            ...    ...  \n",
            "48837             0             0              38  United-States  <=50K  \n",
            "48838             0             0              40  United-States   >50K  \n",
            "48839             0             0              40  United-States  <=50K  \n",
            "48840             0             0              20  United-States  <=50K  \n",
            "48841         15024             0              40  United-States   >50K  \n",
            "\n",
            "[48842 rows x 15 columns]\n"
          ]
        }
      ],
      "source": [
        "# Your code goes here!\n",
        "df = pd.read_csv('adult.csv', na_values='?')\n",
        "print(df.isnull().sum().sum())\n",
        "print(df)"
      ]
    },
    {
      "cell_type": "markdown",
      "metadata": {
        "id": "JpEcBdTUAYVN"
      },
      "source": [
        "**Question:** In many widely used datasets there are a lot of null entries. Propose 5 methods by which, one could deal with this problem. Briefly explain how do you decide which one to use in this problem."
      ]
    },
    {
      "cell_type": "markdown",
      "metadata": {
        "id": "l1u1pBHuAsSg"
      },
      "source": [
        "**Your answer:**\n",
        "1. Deletion:\n",
        "* Listwise deletion: Remove entire rows that have any missing values. This is suitable when the percentage of missing data is low and the data is Missing Completely At Random (MCAR).\n",
        "\n",
        "* Pairwise deletion: Use all available data for each analysis, even if some values are missing. This can be used when the data is MCAR, but may result in inconsistent statistics.\n",
        "\n",
        "* Dropping variables: If a large proportion of the data is missing for a particular feature, it may be best to simply drop that variable from the analysis. This is appropriate when the missing data is not crucial for the analysis.\n",
        "\n",
        "2. Imputation:\n",
        "* Mean/Median imputation: Replace missing values with the mean or median of the non-missing values for that feature. This is simple but can introduce bias if the data is not MCAR.\n",
        "\n",
        "* Regression imputation: Use a regression model to predict the missing values based on the other features. This works well when the data is Missing At Random (MAR).\n",
        "\n",
        "* Iterative imputation: Use an iterative algorithm like Expectation-Maximization (EM) to impute missing values. This can handle more complex patterns of missing data.\n",
        "\n",
        "To decide which method to use for the Adult Income dataset:\n",
        "* First, examine the pattern of missing data. If it is MCAR, then deletion methods like listwise or pairwise deletion may be appropriate, as long as the percentage of missing data is not too high.\n",
        "\n",
        "* If the missing data is MAR, then imputation methods like regression imputation may work well.\n",
        "\n",
        "* If the missing data is Not Missing At Random (NMAR), more advanced imputation techniques like iterative imputation may be needed to model the missing data mechanism.\n",
        "\n",
        "* Consider the percentage of missing data - if it is very high (e.g., over 20%), deletion methods may result in too much data loss, and imputation may be preferable.\n",
        "\n",
        "* Evaluate the performance of different methods on a validation set to determine the most suitable approach for this dataset.\n",
        "\n",
        "The key is to understand the pattern of missing data and choose the appropriate method that balances bias, efficiency, and the specific requirements of the analysis."
      ]
    },
    {
      "cell_type": "markdown",
      "metadata": {
        "id": "eHhH-hkpAxFf"
      },
      "source": [
        "**Task:** Handle null entries using your best method."
      ]
    },
    {
      "cell_type": "code",
      "execution_count": 11,
      "metadata": {
        "id": "5fVwWcjK29fk"
      },
      "outputs": [],
      "source": [
        "df = df.dropna()"
      ]
    },
    {
      "cell_type": "markdown",
      "metadata": {
        "id": "43k5cTorCJaV"
      },
      "source": [
        "**Task:** Convert categorical features to numerical values. Split the dataset with 80-20 portion. Normalize all the data using X_train. Use the built-in Logistic Regression function and GridSearchCV to train your model, and report the parameters, train and test accuracy of the best model."
      ]
    },
    {
      "cell_type": "code",
      "source": [
        "def extract_categorical_features(df, target_column):\n",
        "    \"\"\"\n",
        "    Extracts the categorical features from the given DataFrame.\n",
        "\n",
        "    Parameters:\n",
        "    df (pandas.DataFrame): The input DataFrame.\n",
        "    target_column (str): The name of the target column.\n",
        "\n",
        "    Returns:\n",
        "    list: A list of categorical feature names.\n",
        "    \"\"\"\n",
        "    categorical_features = []\n",
        "    for column in df.columns:\n",
        "        if column != target_column and df[column].dtype == 'object':\n",
        "            unique_values = df[column].unique()\n",
        "            # if len(unique_values) <= 20 or df[column].:\n",
        "            categorical_features.append(column)\n",
        "    return categorical_features"
      ],
      "metadata": {
        "id": "HvoH-Y0GcuXZ"
      },
      "execution_count": 12,
      "outputs": []
    },
    {
      "cell_type": "code",
      "source": [
        "# print(df)\n",
        "# Convert categorical features to numerical values\n",
        "categorical_features = extract_categorical_features(df, 'income')\n",
        "print(categorical_features)\n",
        "for feature in categorical_features:\n",
        "    df[feature] = df[feature].astype('category').cat.codes\n",
        "\n",
        "# Split the dataset into features and target\n",
        "X = df.drop('income', axis=1)\n",
        "y = df['income'].apply(lambda x: 0 if x == '<=50K' else 1)\n",
        "print(df)"
      ],
      "metadata": {
        "colab": {
          "base_uri": "https://localhost:8080/"
        },
        "id": "1kcgNpqyf9DW",
        "outputId": "dd1837ec-5bd5-41df-a88a-83a39575eec1"
      },
      "execution_count": 13,
      "outputs": [
        {
          "output_type": "stream",
          "name": "stdout",
          "text": [
            "['workclass', 'education', 'marital-status', 'occupation', 'relationship', 'race', 'gender', 'native-country']\n",
            "       age  workclass  fnlwgt  education  educational-num  marital-status  \\\n",
            "0       25          2  226802          1                7               4   \n",
            "1       38          2   89814         11                9               2   \n",
            "2       28          1  336951          7               12               2   \n",
            "3       44          2  160323         15               10               2   \n",
            "5       34          2  198693          0                6               4   \n",
            "...    ...        ...     ...        ...              ...             ...   \n",
            "48837   27          2  257302          7               12               2   \n",
            "48838   40          2  154374         11                9               2   \n",
            "48839   58          2  151910         11                9               6   \n",
            "48840   22          2  201490         11                9               4   \n",
            "48841   52          3  287927         11                9               2   \n",
            "\n",
            "       occupation  relationship  race  gender  capital-gain  capital-loss  \\\n",
            "0               6             3     2       1             0             0   \n",
            "1               4             0     4       1             0             0   \n",
            "2              10             0     4       1             0             0   \n",
            "3               6             0     2       1          7688             0   \n",
            "5               7             1     4       1             0             0   \n",
            "...           ...           ...   ...     ...           ...           ...   \n",
            "48837          12             5     4       0             0             0   \n",
            "48838           6             0     4       1             0             0   \n",
            "48839           0             4     4       0             0             0   \n",
            "48840           0             3     4       1             0             0   \n",
            "48841           3             5     4       0         15024             0   \n",
            "\n",
            "       hours-per-week  native-country income  \n",
            "0                  40              38  <=50K  \n",
            "1                  50              38  <=50K  \n",
            "2                  40              38   >50K  \n",
            "3                  40              38   >50K  \n",
            "5                  30              38  <=50K  \n",
            "...               ...             ...    ...  \n",
            "48837              38              38  <=50K  \n",
            "48838              40              38   >50K  \n",
            "48839              40              38  <=50K  \n",
            "48840              20              38  <=50K  \n",
            "48841              40              38   >50K  \n",
            "\n",
            "[45222 rows x 15 columns]\n"
          ]
        }
      ]
    },
    {
      "cell_type": "code",
      "execution_count": 14,
      "metadata": {
        "colab": {
          "base_uri": "https://localhost:8080/"
        },
        "id": "Agj18Lcd-vyZ",
        "outputId": "6a6ee35d-8b77-4a85-9205-b777fc148cf0"
      },
      "outputs": [
        {
          "output_type": "stream",
          "name": "stdout",
          "text": [
            "Best Parameters: {'C': 0.1, 'penalty': 'l2', 'solver': 'saga'}\n",
            "Train Accuracy: 0.8201894963484048\n",
            "Test Accuracy: 0.8208955223880597\n"
          ]
        }
      ],
      "source": [
        "# Split the dataset into train and test sets\n",
        "X_train, X_test, y_train, y_test = train_test_split(X, y, test_size=0.2, random_state=42)\n",
        "\n",
        "# Normalize the data using X_train\n",
        "scaler = StandardScaler()\n",
        "X_train = scaler.fit_transform(X_train)\n",
        "X_test = scaler.transform(X_test)\n",
        "\n",
        "# Define the parameter grid for GridSearchCV\n",
        "param_grid = {\n",
        "    'C': [0.1, 1, 10],\n",
        "    'penalty': ['l1', 'l2'],\n",
        "    'solver': ['liblinear', 'saga']\n",
        "}\n",
        "\n",
        "# Create the Logistic Regression model and perform GridSearchCV\n",
        "model = LogisticRegression()\n",
        "grid_search = GridSearchCV(model, param_grid, cv=5, scoring='accuracy')\n",
        "grid_search.fit(X_train, y_train)\n",
        "\n",
        "# Print the best parameters and the train and test accuracy\n",
        "print(\"Best Parameters:\", grid_search.best_params_)\n",
        "print(\"Train Accuracy:\", grid_search.best_score_)\n",
        "print(\"Test Accuracy:\", grid_search.score(X_test, y_test))"
      ]
    },
    {
      "cell_type": "markdown",
      "metadata": {
        "id": "6Lzr2lqXDQ1T"
      },
      "source": [
        "**Task:** To try a different route, split X_train into $i$ parts, and train $i$ separate models on these parts. Now propose and implement 3 different *ensemble methods* to derive the global models' prediction for X_test using the results(not necessarily predictions!) of the $i$ models. Firstly, set $i=10$ to find the method with the best test accuracy(the answer is not general!). You must Use your own Logistic Regression model.(You might want to modify it a little bit for this part!)"
      ]
    },
    {
      "cell_type": "code",
      "execution_count": 15,
      "metadata": {
        "id": "K9D1jlstF9nF",
        "colab": {
          "base_uri": "https://localhost:8080/"
        },
        "outputId": "541c1167-74fb-4068-9f68-1a6e282a910e"
      },
      "outputs": [
        {
          "output_type": "stream",
          "name": "stdout",
          "text": [
            "Majority Vote Accuracy: 0.8134881149806523\n",
            "Average Probability Accuracy: 0.8139303482587065\n",
            "Weighted Average Accuracy: 0.8137092316196793\n"
          ]
        }
      ],
      "source": [
        "X_train, X_test, y_train, y_test = train_test_split(X, y, test_size=0.2, random_state=42)\n",
        "\n",
        "# Normalize the data using X_train data\n",
        "scaler = StandardScaler()\n",
        "X_train = scaler.fit_transform(X_train)\n",
        "X_test = scaler.transform(X_test)\n",
        "\n",
        "# Split X_train into 10 parts\n",
        "X_train_parts = np.array_split(X_train, 10)\n",
        "y_train_parts = np.array_split(y_train, 10)\n",
        "\n",
        "# Train 10 separate Logistic Regression models\n",
        "models = []\n",
        "for i in range(10):\n",
        "    model = MyLogisticRegression()\n",
        "    model.fit(X_train_parts[i], y_train_parts[i])\n",
        "    models.append(model)\n",
        "\n",
        "# Ensemble methods\n",
        "def ensemble_majority_vote(X_test):\n",
        "    y_pred_list = []\n",
        "    for model in models:\n",
        "        y_pred_list.append(model.predict(X_test))\n",
        "    y_pred_ensemble = np.array([np.argmax(np.bincount(y_pred_col)) for y_pred_col in zip(*y_pred_list)])\n",
        "    return y_pred_ensemble\n",
        "\n",
        "def ensemble_average_probability(X_test):\n",
        "    y_pred_proba_list = []\n",
        "    for model in models:\n",
        "        y_pred_proba_list.append(model.predict_proba(X_test))\n",
        "    y_pred_proba_ensemble = np.mean(y_pred_proba_list, axis=0)\n",
        "    y_pred_ensemble = [1 if prob > 0.5 else 0 for prob in y_pred_proba_ensemble[:, 1]]\n",
        "    return y_pred_ensemble\n",
        "\n",
        "def ensemble_weighted_average(X_test):\n",
        "    y_pred_proba_list = []\n",
        "    for model in models:\n",
        "        y_pred_proba_list.append(model.predict_proba(X_test))\n",
        "    weights = [1 / (i + 1) for i in range(10)]\n",
        "    y_pred_proba_ensemble = np.average(y_pred_proba_list, axis=0, weights=weights)\n",
        "    y_pred_ensemble = [1 if prob > 0.5 else 0 for prob in y_pred_proba_ensemble[:, 1]]\n",
        "    return y_pred_ensemble\n",
        "\n",
        "# Evaluate the ensemble methods\n",
        "print(\"Majority Vote Accuracy:\", accuracy_score(y_test, ensemble_majority_vote(X_test)))\n",
        "print(\"Average Probability Accuracy:\", accuracy_score(y_test, ensemble_average_probability(X_test)))\n",
        "print(\"Weighted Average Accuracy:\", accuracy_score(y_test, ensemble_weighted_average(X_test)))\n"
      ]
    },
    {
      "cell_type": "markdown",
      "metadata": {
        "id": "9QS9HYJ5FW1T"
      },
      "source": [
        "**Question:** Explain your proposed methods and the reason you decided to use them!"
      ]
    },
    {
      "cell_type": "markdown",
      "metadata": {
        "id": "6hCBQuAeF46a"
      },
      "source": [
        "**Your answer:**\n",
        "In this code, we first split the X_train data into 10 parts and train 10 separate Logistic Regression models on these parts. Then, we implement three different ensemble methods:\n",
        "1. Majority Vote: The final prediction is the class that receives the most votes from the 10 models.\n",
        "2. Average Probability: The final prediction is based on the average probability of the 10 models.\n",
        "3. Weighted Average: The final prediction is based on the weighted average probability of the 10 models, with the weights inversely proportional to the model index (i.e., the first model has the highest weight, and the last model has the lowest weight).\n",
        "Finally, we evaluate the test accuracy for each ensemble method and print the results.\n",
        "\n",
        "Note that the best ensemble method may vary depending on the specific dataset and the performance of the individual models. The answer is not general, and you may need to experiment with different ensemble methods to find the one that works best for your problem."
      ]
    },
    {
      "cell_type": "markdown",
      "metadata": {
        "id": "jjSREvg4FTHf"
      },
      "source": [
        "**Task:** Now, for your best method, change $i$ from 2 to 100 and report $i$, train and test accuracy of the best model. Also, plot test and train accuracy for $2\\leq i\\leq100$."
      ]
    },
    {
      "cell_type": "code",
      "execution_count": 16,
      "metadata": {
        "id": "tfKS-Jq0-v4P",
        "colab": {
          "base_uri": "https://localhost:8080/",
          "height": 1000
        },
        "outputId": "9bedcba0-98e2-420c-c1bb-eeb074de7585"
      },
      "outputs": [
        {
          "output_type": "stream",
          "name": "stdout",
          "text": [
            "Number of parts (i): 2, Train Accuracy: 0.8123, Test Accuracy: 0.8142\n",
            "Number of parts (i): 3, Train Accuracy: 0.8124, Test Accuracy: 0.8146\n",
            "Number of parts (i): 4, Train Accuracy: 0.8121, Test Accuracy: 0.8144\n",
            "Number of parts (i): 5, Train Accuracy: 0.8124, Test Accuracy: 0.8143\n",
            "Number of parts (i): 6, Train Accuracy: 0.8121, Test Accuracy: 0.8147\n",
            "Number of parts (i): 7, Train Accuracy: 0.8124, Test Accuracy: 0.8140\n",
            "Number of parts (i): 8, Train Accuracy: 0.8124, Test Accuracy: 0.8138\n",
            "Number of parts (i): 9, Train Accuracy: 0.8121, Test Accuracy: 0.8135\n",
            "Number of parts (i): 10, Train Accuracy: 0.8121, Test Accuracy: 0.8137\n",
            "Number of parts (i): 11, Train Accuracy: 0.8118, Test Accuracy: 0.8134\n",
            "Number of parts (i): 12, Train Accuracy: 0.8117, Test Accuracy: 0.8136\n",
            "Number of parts (i): 13, Train Accuracy: 0.8113, Test Accuracy: 0.8140\n",
            "Number of parts (i): 14, Train Accuracy: 0.8113, Test Accuracy: 0.8138\n",
            "Number of parts (i): 15, Train Accuracy: 0.8116, Test Accuracy: 0.8137\n",
            "Number of parts (i): 16, Train Accuracy: 0.8115, Test Accuracy: 0.8139\n",
            "Number of parts (i): 17, Train Accuracy: 0.8115, Test Accuracy: 0.8145\n",
            "Number of parts (i): 18, Train Accuracy: 0.8116, Test Accuracy: 0.8143\n",
            "Number of parts (i): 19, Train Accuracy: 0.8113, Test Accuracy: 0.8136\n",
            "Number of parts (i): 20, Train Accuracy: 0.8114, Test Accuracy: 0.8139\n",
            "Number of parts (i): 21, Train Accuracy: 0.8114, Test Accuracy: 0.8138\n",
            "Number of parts (i): 22, Train Accuracy: 0.8113, Test Accuracy: 0.8138\n",
            "Number of parts (i): 23, Train Accuracy: 0.8114, Test Accuracy: 0.8143\n",
            "Number of parts (i): 24, Train Accuracy: 0.8113, Test Accuracy: 0.8147\n",
            "Number of parts (i): 25, Train Accuracy: 0.8116, Test Accuracy: 0.8147\n",
            "Number of parts (i): 26, Train Accuracy: 0.8111, Test Accuracy: 0.8144\n",
            "Number of parts (i): 27, Train Accuracy: 0.8112, Test Accuracy: 0.8143\n",
            "Number of parts (i): 28, Train Accuracy: 0.8109, Test Accuracy: 0.8147\n",
            "Number of parts (i): 29, Train Accuracy: 0.8111, Test Accuracy: 0.8144\n",
            "Number of parts (i): 30, Train Accuracy: 0.8112, Test Accuracy: 0.8146\n",
            "Number of parts (i): 31, Train Accuracy: 0.8111, Test Accuracy: 0.8143\n",
            "Number of parts (i): 32, Train Accuracy: 0.8109, Test Accuracy: 0.8145\n",
            "Number of parts (i): 33, Train Accuracy: 0.8110, Test Accuracy: 0.8142\n",
            "Number of parts (i): 34, Train Accuracy: 0.8110, Test Accuracy: 0.8148\n",
            "Number of parts (i): 35, Train Accuracy: 0.8111, Test Accuracy: 0.8147\n",
            "Number of parts (i): 36, Train Accuracy: 0.8111, Test Accuracy: 0.8148\n",
            "Number of parts (i): 37, Train Accuracy: 0.8111, Test Accuracy: 0.8145\n",
            "Number of parts (i): 38, Train Accuracy: 0.8112, Test Accuracy: 0.8142\n",
            "Number of parts (i): 39, Train Accuracy: 0.8110, Test Accuracy: 0.8144\n",
            "Number of parts (i): 40, Train Accuracy: 0.8112, Test Accuracy: 0.8145\n",
            "Number of parts (i): 41, Train Accuracy: 0.8110, Test Accuracy: 0.8140\n",
            "Number of parts (i): 42, Train Accuracy: 0.8110, Test Accuracy: 0.8143\n",
            "Number of parts (i): 43, Train Accuracy: 0.8109, Test Accuracy: 0.8139\n",
            "Number of parts (i): 44, Train Accuracy: 0.8111, Test Accuracy: 0.8144\n",
            "Number of parts (i): 45, Train Accuracy: 0.8110, Test Accuracy: 0.8142\n",
            "Number of parts (i): 46, Train Accuracy: 0.8109, Test Accuracy: 0.8144\n",
            "Number of parts (i): 47, Train Accuracy: 0.8106, Test Accuracy: 0.8143\n",
            "Number of parts (i): 48, Train Accuracy: 0.8105, Test Accuracy: 0.8145\n",
            "Number of parts (i): 49, Train Accuracy: 0.8105, Test Accuracy: 0.8144\n",
            "Number of parts (i): 50, Train Accuracy: 0.8105, Test Accuracy: 0.8142\n",
            "Number of parts (i): 51, Train Accuracy: 0.8103, Test Accuracy: 0.8137\n",
            "Number of parts (i): 52, Train Accuracy: 0.8104, Test Accuracy: 0.8140\n",
            "Number of parts (i): 53, Train Accuracy: 0.8103, Test Accuracy: 0.8143\n",
            "Number of parts (i): 54, Train Accuracy: 0.8101, Test Accuracy: 0.8136\n",
            "Number of parts (i): 55, Train Accuracy: 0.8102, Test Accuracy: 0.8137\n",
            "Number of parts (i): 56, Train Accuracy: 0.8103, Test Accuracy: 0.8132\n",
            "Number of parts (i): 57, Train Accuracy: 0.8099, Test Accuracy: 0.8133\n",
            "Number of parts (i): 58, Train Accuracy: 0.8099, Test Accuracy: 0.8133\n",
            "Number of parts (i): 59, Train Accuracy: 0.8099, Test Accuracy: 0.8133\n",
            "Number of parts (i): 60, Train Accuracy: 0.8100, Test Accuracy: 0.8135\n",
            "Number of parts (i): 61, Train Accuracy: 0.8102, Test Accuracy: 0.8136\n",
            "Number of parts (i): 62, Train Accuracy: 0.8101, Test Accuracy: 0.8136\n",
            "Number of parts (i): 63, Train Accuracy: 0.8102, Test Accuracy: 0.8136\n",
            "Number of parts (i): 64, Train Accuracy: 0.8100, Test Accuracy: 0.8132\n",
            "Number of parts (i): 65, Train Accuracy: 0.8100, Test Accuracy: 0.8129\n",
            "Number of parts (i): 66, Train Accuracy: 0.8099, Test Accuracy: 0.8130\n",
            "Number of parts (i): 67, Train Accuracy: 0.8100, Test Accuracy: 0.8134\n",
            "Number of parts (i): 68, Train Accuracy: 0.8102, Test Accuracy: 0.8138\n",
            "Number of parts (i): 69, Train Accuracy: 0.8099, Test Accuracy: 0.8130\n",
            "Number of parts (i): 70, Train Accuracy: 0.8101, Test Accuracy: 0.8130\n",
            "Number of parts (i): 71, Train Accuracy: 0.8099, Test Accuracy: 0.8132\n",
            "Number of parts (i): 72, Train Accuracy: 0.8099, Test Accuracy: 0.8129\n",
            "Number of parts (i): 73, Train Accuracy: 0.8098, Test Accuracy: 0.8128\n",
            "Number of parts (i): 74, Train Accuracy: 0.8095, Test Accuracy: 0.8129\n",
            "Number of parts (i): 75, Train Accuracy: 0.8098, Test Accuracy: 0.8129\n",
            "Number of parts (i): 76, Train Accuracy: 0.8097, Test Accuracy: 0.8126\n",
            "Number of parts (i): 77, Train Accuracy: 0.8096, Test Accuracy: 0.8125\n",
            "Number of parts (i): 78, Train Accuracy: 0.8098, Test Accuracy: 0.8124\n",
            "Number of parts (i): 79, Train Accuracy: 0.8094, Test Accuracy: 0.8121\n",
            "Number of parts (i): 80, Train Accuracy: 0.8096, Test Accuracy: 0.8122\n",
            "Number of parts (i): 81, Train Accuracy: 0.8094, Test Accuracy: 0.8115\n",
            "Number of parts (i): 82, Train Accuracy: 0.8094, Test Accuracy: 0.8122\n",
            "Number of parts (i): 83, Train Accuracy: 0.8090, Test Accuracy: 0.8122\n",
            "Number of parts (i): 84, Train Accuracy: 0.8095, Test Accuracy: 0.8124\n",
            "Number of parts (i): 85, Train Accuracy: 0.8093, Test Accuracy: 0.8122\n",
            "Number of parts (i): 86, Train Accuracy: 0.8094, Test Accuracy: 0.8118\n",
            "Number of parts (i): 87, Train Accuracy: 0.8095, Test Accuracy: 0.8119\n",
            "Number of parts (i): 88, Train Accuracy: 0.8094, Test Accuracy: 0.8117\n",
            "Number of parts (i): 89, Train Accuracy: 0.8095, Test Accuracy: 0.8118\n",
            "Number of parts (i): 90, Train Accuracy: 0.8093, Test Accuracy: 0.8118\n",
            "Number of parts (i): 91, Train Accuracy: 0.8097, Test Accuracy: 0.8119\n",
            "Number of parts (i): 92, Train Accuracy: 0.8096, Test Accuracy: 0.8124\n",
            "Number of parts (i): 93, Train Accuracy: 0.8098, Test Accuracy: 0.8123\n",
            "Number of parts (i): 94, Train Accuracy: 0.8097, Test Accuracy: 0.8119\n",
            "Number of parts (i): 95, Train Accuracy: 0.8094, Test Accuracy: 0.8121\n",
            "Number of parts (i): 96, Train Accuracy: 0.8094, Test Accuracy: 0.8118\n",
            "Number of parts (i): 97, Train Accuracy: 0.8092, Test Accuracy: 0.8112\n",
            "Number of parts (i): 98, Train Accuracy: 0.8093, Test Accuracy: 0.8113\n",
            "Number of parts (i): 99, Train Accuracy: 0.8095, Test Accuracy: 0.8116\n",
            "Number of parts (i): 100, Train Accuracy: 0.8097, Test Accuracy: 0.8117\n",
            "Best number of parts (i): 34, Best Train Accuracy: 0.8110, Best Test Accuracy: 0.8148\n"
          ]
        },
        {
          "output_type": "display_data",
          "data": {
            "text/plain": [
              "<Figure size 1000x600 with 1 Axes>"
            ],
            "image/png": "[encoded data removed]"
          },
          "metadata": {}
        }
      ],
      "source": [
        "X_train, X_test, y_train, y_test = train_test_split(X, y, test_size=0.2, random_state=42)\n",
        "\n",
        "# Normalize the data using X_train data\n",
        "scaler = StandardScaler()\n",
        "X_train = scaler.fit_transform(X_train)\n",
        "X_test = scaler.transform(X_test)\n",
        "\n",
        "# Initialize lists to store the results\n",
        "i_values = list(range(2, 101))\n",
        "train_accuracies = []\n",
        "test_accuracies = []\n",
        "\n",
        "# Iterate over the number of parts (i)\n",
        "for i in i_values:\n",
        "    # Split X_train into i parts\n",
        "    X_train_parts = np.array_split(X_train, i)\n",
        "    y_train_parts = np.array_split(y_train, i)\n",
        "\n",
        "    # Train i separate Logistic Regression models\n",
        "    models = []\n",
        "    for j in range(i):\n",
        "        model = MyLogisticRegression()\n",
        "        model.fit(X_train_parts[j], y_train_parts[j])\n",
        "        models.append(model)\n",
        "\n",
        "    # Ensemble method: Weighted Average\n",
        "    def ensemble_weighted_average(X_test):\n",
        "        y_pred_proba_list = []\n",
        "        for model in models:\n",
        "            y_pred_proba_list.append(model.predict_proba(X_test))\n",
        "        weights = [1 / (k + 1) for k in range(i)]\n",
        "        y_pred_proba_ensemble = np.average(y_pred_proba_list, axis=0, weights=weights)\n",
        "        y_pred_ensemble = [1 if prob > 0.5 else 0 for prob in y_pred_proba_ensemble[:, 1]]\n",
        "        return y_pred_ensemble\n",
        "\n",
        "    # Evaluate the ensemble method\n",
        "    y_train_pred = ensemble_weighted_average(X_train)\n",
        "    y_test_pred = ensemble_weighted_average(X_test)\n",
        "    train_accuracy = accuracy_score(y_train, y_train_pred)\n",
        "    test_accuracy = accuracy_score(y_test, y_test_pred)\n",
        "\n",
        "    # Store the results\n",
        "    train_accuracies.append(train_accuracy)\n",
        "    test_accuracies.append(test_accuracy)\n",
        "\n",
        "    print(f\"Number of parts (i): {i}, Train Accuracy: {train_accuracy:.4f}, Test Accuracy: {test_accuracy:.4f}\")\n",
        "\n",
        "# Find the best model\n",
        "best_i = i_values[np.argmax(test_accuracies)]\n",
        "best_train_accuracy = train_accuracies[np.argmax(test_accuracies)]\n",
        "best_test_accuracy = test_accuracies[np.argmax(test_accuracies)]\n",
        "\n",
        "print(f\"Best number of parts (i): {best_i}, Best Train Accuracy: {best_train_accuracy:.4f}, Best Test Accuracy: {best_test_accuracy:.4f}\")\n",
        "\n",
        "# Plot the results\n",
        "plt.figure(figsize=(10, 6))\n",
        "plt.plot(i_values, train_accuracies, label='Train Accuracy')\n",
        "plt.plot(i_values, test_accuracies, label='Test Accuracy')\n",
        "plt.xlabel('Number of parts (i)')\n",
        "plt.ylabel('Accuracy')\n",
        "plt.title('Accuracy vs Number of Parts')\n",
        "plt.legend()\n",
        "plt.show()"
      ]
    },
    {
      "cell_type": "markdown",
      "metadata": {
        "id": "BWV0YUgRGg1p"
      },
      "source": [
        "**Question:** Analyze the results."
      ]
    },
    {
      "cell_type": "markdown",
      "metadata": {
        "id": "Sh76Dtqf2dvI"
      },
      "source": [
        "**Your Answer:** small training part make the accuracy worse."
      ]
    }
  ],
  "metadata": {
    "colab": {
      "provenance": []
    },
    "kernelspec": {
      "display_name": "Python 3",
      "name": "python3"
    },
    "language_info": {
      "name": "python"
    }
  },
  "nbformat": 4,
  "nbformat_minor": 0
}